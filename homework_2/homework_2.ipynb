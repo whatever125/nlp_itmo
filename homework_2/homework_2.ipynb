{
  "nbformat": 4,
  "nbformat_minor": 0,
  "metadata": {
    "colab": {
      "provenance": [],
      "toc_visible": true,
      "gpuType": "T4"
    },
    "kernelspec": {
      "name": "python3",
      "display_name": "Python 3"
    },
    "language_info": {
      "name": "python"
    },
    "accelerator": "GPU"
  },
  "cells": [
    {
      "cell_type": "markdown",
      "source": [
        "# Homework #2"
      ],
      "metadata": {
        "id": "Zl0kbiJJoTvx"
      }
    },
    {
      "cell_type": "markdown",
      "source": [
        "## Подготовка"
      ],
      "metadata": {
        "id": "847x5XyboXUC"
      }
    },
    {
      "cell_type": "markdown",
      "source": [
        "### Устанвока, импорты"
      ],
      "metadata": {
        "id": "U5W4YMj1o3pt"
      }
    },
    {
      "cell_type": "code",
      "source": [
        "!pip uninstall -y transformers accelerate\n",
        "!pip install transformers accelerate"
      ],
      "metadata": {
        "id": "U_ncwHL2HIT9"
      },
      "execution_count": null,
      "outputs": []
    },
    {
      "cell_type": "code",
      "source": [
        "import re\n",
        "import torch\n",
        "import numpy as np\n",
        "import random\n",
        "\n",
        "from transformers import GPT2LMHeadModel, GPT2Tokenizer\n",
        "from transformers import TextDataset, DataCollatorForLanguageModeling\n",
        "from transformers import Trainer, TrainingArguments"
      ],
      "metadata": {
        "id": "IGQRV_XIHN25"
      },
      "execution_count": 63,
      "outputs": []
    },
    {
      "cell_type": "markdown",
      "source": [
        "### Установка random state"
      ],
      "metadata": {
        "id": "bCfwtZnloc-H"
      }
    },
    {
      "cell_type": "code",
      "source": [
        "def set_seed(seed):\n",
        "    random.seed(seed)\n",
        "    np.random.seed(seed)\n",
        "    torch.manual_seed(seed)\n",
        "    torch.backends.cudnn.deterministic = True\n",
        "    torch.backends.cudnn.benchmark = False\n",
        "    if torch.cuda.is_available():\n",
        "        torch.cuda.manual_seed_all(seed)\n",
        "\n",
        "set_seed(42)"
      ],
      "metadata": {
        "id": "zJ5YtDpHiz3N"
      },
      "execution_count": 64,
      "outputs": []
    },
    {
      "cell_type": "markdown",
      "source": [
        "## Загрузка датасета"
      ],
      "metadata": {
        "id": "GJHYiGb2oqnn"
      }
    },
    {
      "cell_type": "markdown",
      "source": [
        "Датасет содержит тексты песен Оксимирона. Набор  текстов взят с genius.com\n",
        "https://huggingface.co/datasets/huggingartists/oxxxymiron"
      ],
      "metadata": {
        "id": "d2zxwqHFp4Ua"
      }
    },
    {
      "cell_type": "code",
      "source": [
        "!pip install datasets"
      ],
      "metadata": {
        "id": "dtK_l7HcHZZ8"
      },
      "execution_count": null,
      "outputs": []
    },
    {
      "cell_type": "code",
      "source": [
        "from datasets import load_dataset, Dataset, DatasetDict\n",
        "\n",
        "dataset = load_dataset(\"huggingartists/oxxxymiron\")"
      ],
      "metadata": {
        "id": "-hzbV-ZdHUyo"
      },
      "execution_count": null,
      "outputs": []
    },
    {
      "cell_type": "code",
      "source": [
        "dataset[\"train\"][\"text\"][1]"
      ],
      "metadata": {
        "colab": {
          "base_uri": "https://localhost:8080/",
          "height": 191
        },
        "id": "Zyy8CvCpLHhf",
        "outputId": "759fc1d1-2abf-4ea2-93d0-ae93d1d785c0"
      },
      "execution_count": 67,
      "outputs": [
        {
          "output_type": "execute_result",
          "data": {
            "text/plain": [
              "'Эй\\nScady\\nЙо\\nДон ли, Волга ли течёт — котомку на плечо\\nБоль в груди — там тайничок, открытый фомкой, не ключом\\nСколько миль ещё? Перелет короткий был не в счёт\\nДолгий пыльный чёс, фургон набит коробками с мерчом\\nВерим, подфартит, наши постели портативны\\nМенестрелю два пути: корпоратив или квартирник\\nСхемы однотипны, все теперь MC\\nВедь, смену породив, мы здесь достигли смены парадигмы\\nТеперь рэп — многопартийный; бэттлов наплодив\\nЯ смотрю в зеркало по типу: «Сколько бед наворотил ты!»\\nЯ б весь рэп поработил, но всё время в пути\\nУ индустрии нервный тик, валокордин — стенокардийным\\nСоберите суд, но победителей не судят\\nМы первые кроманьонцы — мы выбились в люди\\nНе пизди! Я кладу на вас, челядь, пятикратно\\nВедь мы выступаем сильно, будто челюсть питекантропа\\nВесь мой рэп, если коротко, про то, что\\nУж который год который город под подошвой\\nВ гору, когда прёт; потом под гору, когда тошно\\nЯ не то, чтоб Гулливер, но всё же город под подошвой\\nГород под подошвой, город под подошвой\\nСветофоры, госпошлины, сборы и таможни\\nЯ не знаю, вброд или на дно эта дорожка\\nТы живёшь под каблуком, у меня город под подошвой\\nМимо тополей и спелого хлеба полей\\nГде привидение Есенина, крест, молебен, елей\\nИз минивэна вижу землю, вижу небо над ней\\nМы всё преодолеем — если нет, то я не водолей\\nНаша земля топит одиночек как щенят\\nБыл чужой, но Охра, Порчи, Илья — больше, чем семья\\nБомбу ночью сочинял, что есть мочи начинял\\nЯ так хотел принадлежать чему-то большему, чем я\\nМир пустой, хоть с каждым вторым перезнакомься\\nЯ не биоробот с позитивной лыбой комсомольца, эй\\nИзбавь меня от ваших панацей, домашний Парацельс\\nВедь для меня ебашить — самоцель\\nПодустал? Нам насрать! Тони Старк как стандарт\\nПара стран, автострад: Краснодар, Татарстан, Москвабад\\nПаспорта, гам эстрад — нарасхват\\nХоть по МКАДу на старт, хоть на Мадагаскар \\nВесь мой рэп, если коротко, про то, что\\nУж который год который город под подошвой\\nВ гору, когда прёт; потом под гору, когда тошно\\nЯ не то чтоб Гулливер, но всё же город под подошвой\\nГород под подошвой, город под подошвой\\nСветофоры, госпошлины, сборы и таможни\\nЯ не знаю, вброд или на дно эта дорожка\\nТы живёшь под каблуком, у меня город под подошвой\\nДай силёнок тут не свернуть и не сломаться\\nЕсть маршрут и есть на трассе населённый пункт\\nИ там нас сегодня ждут; нытик, не будь женственным\\nУ Руслана в деке саундтреки к путешествию\\nСнова ебло заспано, снова подъём засветло\\nСнова броник, снова дорога, мешок за спину\\nВсё наскоро, в поле насрано, дождь, пасмурно\\nМост в Асгард — после, пусть просто везёт с транспортом\\nЯ делаю каждый свой куплет автопортретом\\nЧас на чек, читаем рэп, как логопед под марафетом\\nТрафарет на парапетах: лого на стене везде\\nМоё ученье — всем, как Магомета с Бафометом\\nЯ — звезда? Дайте тёплый плед и капюшон\\nСалфетки жопу вытирать — и всё, отметка «хорошо»\\nРаньше говорили: «Я бы с ним в разведку не пошёл»\\nЯ с тобой в тур не поехал — ты проверку не прошёл \\nМой рэп, если коротко, про то, что\\nУж который год который город под подошвой\\nВ гору, когда прёт; потом под гору, когда тошно\\nЯ не то, чтоб Гулливер, но всё же город под подошвой\\nГород под подошвой, город под подошвой\\nСветофоры, госпошлины, сборы и таможни\\nЯ не знаю, вброд или на дно эта дорожка\\nТы живёшь под каблуком, у меня город под подошвой\\nMy whole life, whole-whole, whole life\\nWhole-whole, whole life on the road\\nMy whole life, whole-whole, whole life\\nWhole-whole, whole life on the road\\nMy whole life, whole-whole, whole life\\nWhole-whole, whole life on the road\\nMy whole life, whole-whole, whole life\\nWhole-whole, whole life on the road'"
            ],
            "application/vnd.google.colaboratory.intrinsic+json": {
              "type": "string"
            }
          },
          "metadata": {},
          "execution_count": 67
        }
      ]
    },
    {
      "cell_type": "code",
      "source": [
        "train_path = 'train_dataset.txt'\n",
        "with open(train_path, \"w\") as f:\n",
        "    f.write('\\n'.join(dataset[\"train\"][\"text\"]) + '\\n')"
      ],
      "metadata": {
        "id": "MsStNQR3WUbm"
      },
      "execution_count": 68,
      "outputs": []
    },
    {
      "cell_type": "code",
      "source": [
        "train_dataset = TextDataset(tokenizer=tokenizer, file_path=train_path, block_size=32)\n",
        "data_collator = DataCollatorForLanguageModeling(tokenizer=tokenizer, mlm=False)"
      ],
      "metadata": {
        "id": "5JLi6utePXmK"
      },
      "execution_count": null,
      "outputs": []
    },
    {
      "cell_type": "markdown",
      "source": [
        "## Загрузка модели"
      ],
      "metadata": {
        "id": "-GZVIHIlotnR"
      }
    },
    {
      "cell_type": "code",
      "source": [
        "model_name = \"sberbank-ai/rugpt3medium_based_on_gpt2\"\n",
        "tokenizer = GPT2Tokenizer.from_pretrained(model_name)\n",
        "model = GPT2LMHeadModel.from_pretrained(model_name).to('cuda:0')"
      ],
      "metadata": {
        "id": "JL84vZP3LfIb"
      },
      "execution_count": 82,
      "outputs": []
    },
    {
      "cell_type": "code",
      "source": [
        "def generate(input_text):\n",
        "  input_ids = tokenizer.encode(input_text, return_tensors=\"pt\").to('cuda:0')\n",
        "\n",
        "  model.eval()\n",
        "  with torch.no_grad():\n",
        "      out = model.generate(\n",
        "          input_ids,\n",
        "          do_sample=True,\n",
        "          num_beams=3,\n",
        "          temperature=1.5,\n",
        "          top_p=2.0,\n",
        "          max_length=300,\n",
        "          repetition_penalty=3.0,\n",
        "      )\n",
        "  generated_text = list(map(tokenizer.decode, out))[0]\n",
        "  print(generated_text)"
      ],
      "metadata": {
        "id": "ZF8uB5APPKgL"
      },
      "execution_count": 70,
      "outputs": []
    },
    {
      "cell_type": "markdown",
      "source": [
        "### Проверка модели без дообучения"
      ],
      "metadata": {
        "id": "lU6-o_Jno15O"
      }
    },
    {
      "cell_type": "code",
      "source": [
        "generate(\"Год назад я сидел на скамейке в общественном парке\")"
      ],
      "metadata": {
        "colab": {
          "base_uri": "https://localhost:8080/"
        },
        "id": "tGHP29XqPxyN",
        "outputId": "6fe952bb-793d-4b26-8acf-d89f34f4cb63"
      },
      "execution_count": 83,
      "outputs": [
        {
          "output_type": "stream",
          "name": "stderr",
          "text": [
            "The attention mask and the pad token id were not set. As a consequence, you may observe unexpected behavior. Please pass your input's `attention_mask` to obtain reliable results.\n",
            "Setting `pad_token_id` to `eos_token_id`:50256 for open-end generation.\n"
          ]
        },
        {
          "output_type": "stream",
          "name": "stdout",
          "text": [
            "Год назад я сидел на скамейке в общественном парке, а около меня стояла девушка.  Она была одета в короткую юбку и кофту с длинными рукавами.  На ней было розовое пальто, которое подчеркивало ее стройную фигуру.  В руке она держала букет белых лилий. \n",
            " - Привет -- поздоровалась она со мной. \n",
            " - Привет -- ответил я. \n",
            " - Ты не против, если я тебя представлю своим друзьям \n",
            " - Да нет, почему бы и нет -- ответил я. \n",
            " - Я Вика.  А это мой друг Сергей. \n",
            " Мы пожали друг другу руки. \n",
            " - Пойдем к нам! -- предложила Вика. \n",
            " По пути домой мы говорили о том, что произошло прошлой ночью.  Было очень интересно узнать все подробности.  Когда мы подошли к нашему подъезду, то зашли в квартиру.  Как только дверь за нами закрылась, я сразу же почувствовал сильный запах духов.  Это был какой-то странный запах.  От него у меня закружилась голова.  Я подошел к шкафу и начал искать дезодорант.  Но его нигде не было.  Тогда я достал пачку сигарет и закурил.  Через некоторое время из шкафа до меня донесся знакомый голос: \n",
            " - Ну где ты ходишь по ночам Так хочется покурить... \n",
            " После этих слов раздался громкий звук захлопывающейся двери.  Я вышел из шкафа и посмотрел на Вику.  Передо мной стоял парень примерно моего возраста.  У него были короткие светлые волосы и голубые глаза.  Он\n"
          ]
        }
      ]
    },
    {
      "cell_type": "markdown",
      "source": [
        "*Как можно заметить, текст, сгенерированный моделью gpt без finetuning, является абстрактной прозой, и не сопадает со стилем исполнителя*"
      ],
      "metadata": {
        "id": "GLrQ8r5MsoaF"
      }
    },
    {
      "cell_type": "markdown",
      "source": [
        "## Дообучение модели"
      ],
      "metadata": {
        "id": "Hl6LemIupPwt"
      }
    },
    {
      "cell_type": "code",
      "source": [
        "training_args = TrainingArguments(\n",
        "    output_dir=\"./finetuned\",         # The output directory\n",
        "    overwrite_output_dir=True,        # Overwrite the content of the output dir\n",
        "    num_train_epochs=10,              # number of training epochs\n",
        "    per_device_train_batch_size=20,   # batch size for training\n",
        "    per_device_eval_batch_size=32,    # batch size for evaluation\n",
        "    warmup_steps=9,                   # number of warmup steps for learning rate scheduler\n",
        "    gradient_accumulation_steps=5,\n",
        "    seed=42  # set the random seed here\n",
        ")\n",
        "\n",
        "trainer = Trainer(\n",
        "    model=model,\n",
        "    args=training_args,\n",
        "    data_collator=data_collator,\n",
        "    train_dataset=train_dataset,\n",
        "    optimizers = (torch.optim.AdamW(model.parameters(), lr=1e-5), None)\n",
        ")"
      ],
      "metadata": {
        "id": "K-DowztOQy06"
      },
      "execution_count": 73,
      "outputs": []
    },
    {
      "cell_type": "code",
      "source": [
        "trainer.train()"
      ],
      "metadata": {
        "colab": {
          "base_uri": "https://localhost:8080/",
          "height": 217
        },
        "id": "ALKKfOcrQ4gI",
        "outputId": "77ef0d64-967e-4cca-a027-2aebc844d56c"
      },
      "execution_count": 74,
      "outputs": [
        {
          "data": {
            "text/html": [
              "\n",
              "    <div>\n",
              "      \n",
              "      <progress value='341' max='620' style='width:300px; height:20px; vertical-align: middle;'></progress>\n",
              "      [341/620 12:38 < 10:24, 0.45 it/s, Epoch 5.45/10]\n",
              "    </div>\n",
              "    <table border=\"1\" class=\"dataframe\">\n",
              "  <thead>\n",
              " <tr style=\"text-align: left;\">\n",
              "      <th>Step</th>\n",
              "      <th>Training Loss</th>\n",
              "    </tr>\n",
              "  </thead>\n",
              "  <tbody>\n",
              "  </tbody>\n",
              "</table><p>"
            ],
            "text/plain": [
              "<IPython.core.display.HTML object>"
            ]
          },
          "metadata": {},
          "output_type": "display_data"
        },
        {
          "output_type": "display_data",
          "data": {
            "text/plain": [
              "<IPython.core.display.HTML object>"
            ],
            "text/html": [
              "\n",
              "    <div>\n",
              "      \n",
              "      <progress value='620' max='620' style='width:300px; height:20px; vertical-align: middle;'></progress>\n",
              "      [620/620 23:22, Epoch 9/10]\n",
              "    </div>\n",
              "    <table border=\"1\" class=\"dataframe\">\n",
              "  <thead>\n",
              " <tr style=\"text-align: left;\">\n",
              "      <th>Step</th>\n",
              "      <th>Training Loss</th>\n",
              "    </tr>\n",
              "  </thead>\n",
              "  <tbody>\n",
              "    <tr>\n",
              "      <td>500</td>\n",
              "      <td>3.988400</td>\n",
              "    </tr>\n",
              "  </tbody>\n",
              "</table><p>"
            ]
          },
          "metadata": {}
        },
        {
          "output_type": "execute_result",
          "data": {
            "text/plain": [
              "TrainOutput(global_step=620, training_loss=3.941444150863155, metrics={'train_runtime': 1404.725, 'train_samples_per_second': 44.329, 'train_steps_per_second': 0.441, 'total_flos': 3591924067467264.0, 'train_loss': 3.941444150863155, 'epoch': 9.94})"
            ]
          },
          "metadata": {},
          "execution_count": 74
        }
      ]
    },
    {
      "cell_type": "code",
      "source": [
        "model.save_pretrained('model_oxxxy1')"
      ],
      "metadata": {
        "id": "R4B4GjDAbvtH"
      },
      "execution_count": 75,
      "outputs": []
    },
    {
      "cell_type": "markdown",
      "source": [
        "## Проверка модели после дообучения"
      ],
      "metadata": {
        "id": "XtyUsX8TpTg1"
      }
    },
    {
      "cell_type": "code",
      "source": [
        "generate(\"Год назад я сидел на скамейке в общественном парке\")"
      ],
      "metadata": {
        "colab": {
          "base_uri": "https://localhost:8080/"
        },
        "id": "WGKKHEkGbzO8",
        "outputId": "55ccb11a-8ef6-4131-9d28-fe1049ec746f"
      },
      "execution_count": 76,
      "outputs": [
        {
          "output_type": "stream",
          "name": "stderr",
          "text": [
            "The attention mask and the pad token id were not set. As a consequence, you may observe unexpected behavior. Please pass your input's `attention_mask` to obtain reliable results.\n",
            "Setting `pad_token_id` to `eos_token_id`:50256 for open-end generation.\n"
          ]
        },
        {
          "output_type": "stream",
          "name": "stdout",
          "text": [
            "Год назад я сидел на скамейке в общественном парке, и мне говорили: «Будь мужиком!»\n",
            "А сегодня я стою у памятника Неизвестному Солдату\n",
            "Я гляжу через плечо, вижу, как ты ждёшь меня под дождём\n",
            "И всё это время наблюдал за мной с той скамейки\n",
            "Ты знаешь, что я знаю? Что я не просто так стоял там\n",
            "На этом месте до сих пор стоит памятник безымянному солдату\n",
            "Неизвестный Солдат\n",
            "Мёртвый солдат\n",
            "Неведома зверюга\n",
            "Дождь моросит, лужи по колено\n",
            "Мне нечего надеть, ни денег, ни даже зонта\n",
            "Но я верю, что смогу пройти свой путь\n",
            "Ведь каждый мой шаг приближает меня к цели\n",
            "Когда-нибудь он дойдёт до пункта назначения\n",
            "Мой путь уже почти близок\n",
            "Впереди только цель\n",
            "Пройдёт ещё много лет\n",
            "Всё это время я буду смотреть сквозь слёзы\n",
            "Видеть твой силуэт вдалеке\n",
            "Где-то вдали раздаётся вой полицейской сирены\n",
            "Это значит, что скоро мы увидимся снова\n",
            "У тебя будет новый бойфренд\n",
            "Твоя жена ждёт ребёнка\n",
            "Слёзы градом катятся по моим щекам\n",
            "Клянусь, я сделаю всё, чтобы доказать ей, что она ошибается\n",
            "Моя жизнь — череда сплошных ошибок\n",
            "Останусь здесь навсегда\n",
            "До встречи, сын!\n",
            "Через год скитаний судьба сведёт нас снова\n",
            "Мы снова будем идти рука об руку\n",
            "\n"
          ]
        }
      ]
    },
    {
      "cell_type": "markdown",
      "source": [
        "Как можно заметить, после дообучения тексты не имеют рифмы, однако структурой похожи на тексты песен. А самое главное, при одинаковом запросе тексты после fintuning стали напоминать стиль оксимирона.\n",
        "К сожалению, обучение 10 эпох занимает 20 минут, поэтому я не стал делать больше. Скорее всего, при большем количестве эпох можно было бы добиться лучших результатов."
      ],
      "metadata": {
        "id": "OR9A3IY9tUn0"
      }
    },
    {
      "cell_type": "markdown",
      "source": [
        "*Ниже приведено еще несколько примеров:*"
      ],
      "metadata": {
        "id": "0LvriFDUu1cN"
      }
    },
    {
      "cell_type": "code",
      "source": [
        "generate(\"Я покидаю дом в семь часов утра\")"
      ],
      "metadata": {
        "colab": {
          "base_uri": "https://localhost:8080/"
        },
        "id": "MUia_u-Mlqc6",
        "outputId": "b23556a0-85eb-4c58-cbca-21a3f63f6fb5"
      },
      "execution_count": 80,
      "outputs": [
        {
          "output_type": "stream",
          "name": "stderr",
          "text": [
            "The attention mask and the pad token id were not set. As a consequence, you may observe unexpected behavior. Please pass your input's `attention_mask` to obtain reliable results.\n",
            "Setting `pad_token_id` to `eos_token_id`:50256 for open-end generation.\n"
          ]
        },
        {
          "output_type": "stream",
          "name": "stdout",
          "text": [
            "Я покидаю дом в семь часов утра\n",
            "Иду на улицу, и мой путь пролегает мимо окон\n",
            "Вон там, за окном, дома, дворы, улицы\n",
            "Но я не сойду с места до тех пор, пока не доберусь до цели\n",
            "До того самого окна, где отражается город\n",
            "Окна домов похожи друг на друга как две капли воды\n",
            "Они все разные, но у них есть общие черты\n",
            "У каждой — своя история, свои герои\n",
            "Моя жизнь полна сложностей, они меня пугают\n",
            "Мне страшно представить, что со мной будет, когда я достигну цели\n",
            "Пока я жив, я буду пытаться дойти до цели\n",
            "Мой путь тернист, но он всегда приводит к цели\n",
            "Ведь я иду по нему уже больше десяти лет\n",
            "За это время столько всего произошло\n",
            "Так почему бы мне не рассказать вам о своих приключениях?\n",
            "Начнём…\n",
            "Давным-давно, когда мир был ещё безгранично прост\n",
            "Поздним вечером мы с моим другом шли домой\n",
            "Мы брели по ночной пустынной улице\n",
            "Извилистый путь привёл нас к заброшенному дому\n",
            "Домик из серого камня, заросший плющом\n",
            "Мимо проносятся тёмные силуэты зданий\n",
            "Вдруг откуда ни возьмись появляется странный силуэт\n",
            "Он машет нам рукой, словно хочет сказать: «Эй!»\n",
            "Существо протягивает вперёд руки\n",
            "«Приветствую вас, ребята» — говорит тень\n",
            "«Кто вы?» — удивлённо пересп\n"
          ]
        }
      ]
    },
    {
      "cell_type": "code",
      "source": [
        "generate(\"Всё переплетено, море нитей, но\")"
      ],
      "metadata": {
        "colab": {
          "base_uri": "https://localhost:8080/"
        },
        "id": "_6jX_UYSgFgw",
        "outputId": "f861df2b-77b6-4b5e-bf9a-46e79adac51b"
      },
      "execution_count": 78,
      "outputs": [
        {
          "output_type": "stream",
          "name": "stderr",
          "text": [
            "The attention mask and the pad token id were not set. As a consequence, you may observe unexpected behavior. Please pass your input's `attention_mask` to obtain reliable results.\n",
            "Setting `pad_token_id` to `eos_token_id`:50256 for open-end generation.\n"
          ]
        },
        {
          "output_type": "stream",
          "name": "stdout",
          "text": [
            "Всё переплетено, море нитей, но всё равно тесно\n",
            "И так каждый год по кругу\n",
            "Я не верю в реинкарнацию — это бредни дилетанта\n",
            "Не надо мне сказок про переселение душ\n",
            "Коль мы живём на этой земле, то должны быть едины\n",
            "Все вместе и каждый за себя\n",
            "Мы все умрём, но пока эта земля наша\n",
            "Каждый из нас с ней неразлучен\n",
            "Вокруг нас океан, где-то вдалеке маяк\n",
            "Он светится, словно далёкий маяк\n",
            "Где-то там, вдали, что-то вспыхнуло\n",
            "Но оно погасло, как будто спичка\n",
            "Зажжённая неверным движением руки\n",
            "Ничто не вечно под луной\n",
            "Лишь наши сердца бьются в унисон\n",
            "Слышишь, сердце? Оно бъётся у горла\n",
            "А ну-ка, пой! Не бойся, тише, тише, тише!\n",
            "Это пульс земли, она слышит нас\n",
            "Гул прибоя, он говорит нам: «Тихо!»\n",
            "Зови меня своим именем, зовите меня своим именем\n",
            "Только моим именем, зовите меня своим именем\n",
            "Всеми своими именами, зовите меня своим именем\n",
            "Моим именем, зовите меня своим именем\n",
            "Останусь здесь, останусь здесь, останусь здесь, останусь здесь\n",
            "Остался тут, остался тут, остался тут, остался тут, остался тут\n",
            "Остался тут, остался тут, остался тут, остался тут,\n"
          ]
        }
      ]
    }
  ]
}